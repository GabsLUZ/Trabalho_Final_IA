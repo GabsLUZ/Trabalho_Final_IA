{
  "nbformat": 4,
  "nbformat_minor": 0,
  "metadata": {
    "colab": {
      "private_outputs": true,
      "provenance": [],
      "mount_file_id": "1-BwIXwgTFGBp6YjKUoa8DlNL3G-2ueQN",
      "authorship_tag": "ABX9TyON7GnSKIn0IzsXrQ3F+x35",
      "include_colab_link": true
    },
    "kernelspec": {
      "name": "python3",
      "display_name": "Python 3"
    },
    "language_info": {
      "name": "python"
    },
    "accelerator": "TPU",
    "gpuClass": "standard"
  },
  "cells": [
    {
      "cell_type": "markdown",
      "metadata": {
        "id": "view-in-github",
        "colab_type": "text"
      },
      "source": [
        "<a href=\"https://colab.research.google.com/github/GabsLUZ/Trabalho_Final_IA/blob/main/Teste_Avaliza%C3%A7%C3%A3o.ipynb\" target=\"_parent\"><img src=\"https://colab.research.google.com/assets/colab-badge.svg\" alt=\"Open In Colab\"/></a>"
      ]
    },
    {
      "cell_type": "code",
      "source": [
        "from google.colab import drive\n",
        "drive.mount('/content/drive')"
      ],
      "metadata": {
        "id": "1guhBPB7QmHW"
      },
      "execution_count": null,
      "outputs": []
    },
    {
      "cell_type": "code",
      "source": [
        "pip install scikit-plot"
      ],
      "metadata": {
        "id": "twE2r73jQe6L"
      },
      "execution_count": null,
      "outputs": []
    },
    {
      "cell_type": "code",
      "source": [
        "pip install -U scikit-learn"
      ],
      "metadata": {
        "id": "947ib_I1RAvy"
      },
      "execution_count": null,
      "outputs": []
    },
    {
      "cell_type": "code",
      "execution_count": null,
      "metadata": {
        "id": "XdcAdX-pQFFc"
      },
      "outputs": [],
      "source": [
        "# Manipulacao de dados\n",
        "import numpy as np\n",
        "import pandas as pd\n",
        "\n",
        "# Visualizacao de dados\n",
        "import matplotlib.pyplot as plt\n",
        "import seaborn as sns\n",
        "import scikitplot as skplt\n",
        "\n",
        "# Machine learning\n",
        "import scikitplot as skplt\n",
        "from sklearn.svm import LinearSVC\n",
        "from sklearn.ensemble import RandomForestClassifier, GradientBoostingClassifier\n",
        "from sklearn.naive_bayes import GaussianNB\n",
        "from sklearn.linear_model import LinearRegression, LogisticRegression, Ridge, Lasso\n",
        "from sklearn.tree import DecisionTreeClassifier\n",
        "from sklearn.neural_network import MLPClassifier\n",
        "from sklearn.neighbors import KNeighborsClassifier\n",
        "from sklearn.ensemble import RandomForestClassifier\n",
        "from xgboost import XGBClassifier\n",
        "\n",
        "# cross validate\n",
        "from sklearn.model_selection import train_test_split\n",
        "from sklearn.model_selection import StratifiedKFold, cross_validate, KFold\n",
        "from sklearn.metrics import make_scorer\n",
        "from sklearn.model_selection import cross_val_predict\n",
        "from sklearn.metrics import confusion_matrix\n",
        "\n",
        "# Selecao de caracteristicas e encoders\n",
        "from sklearn.preprocessing import OneHotEncoder, LabelEncoder\n",
        "\n",
        "# Metricas de avaliacao\n",
        "from sklearn.metrics import roc_curve, auc, roc_auc_score, accuracy_score, classification_report, confusion_matrix\n",
        "from sklearn.metrics import recall_score, precision_score, f1_score, average_precision_score, RocCurveDisplay\n",
        "\n",
        "# remover warning\n",
        "import warnings\n",
        "warnings.filterwarnings('ignore')"
      ]
    },
    {
      "cell_type": "markdown",
      "source": [
        "A biblioteca  plot_roc_curve não está mais disponivel na versão atual do python então foi utilizado o RocCurveDisplay"
      ],
      "metadata": {
        "id": "m88ySWeLSlFo"
      }
    },
    {
      "cell_type": "code",
      "source": [
        "df = pd.read_csv(\"/content/drive/MyDrive/trabalho IA/covid_2022_cleaned.csv\", sep=';')\n",
        "df_ = pd.read_csv(\"/content/drive/MyDrive/trabalho IA/covid_2022_cleaned_raca.csv\", sep=';')"
      ],
      "metadata": {
        "id": "3YJEPd5iS5Vo"
      },
      "execution_count": null,
      "outputs": []
    },
    {
      "cell_type": "code",
      "source": [
        "df.head()"
      ],
      "metadata": {
        "id": "BZ5WXxzLTFMe"
      },
      "execution_count": null,
      "outputs": []
    },
    {
      "cell_type": "code",
      "source": [
        "def print_df_dimensions(df):\n",
        "    print(f'O DataFrame tem {df.shape[0]} linhas e {df.shape[1]} colunas.')"
      ],
      "metadata": {
        "id": "oK2MH_n1UAUd"
      },
      "execution_count": null,
      "outputs": []
    },
    {
      "cell_type": "code",
      "source": [
        "print_df_dimensions(df)"
      ],
      "metadata": {
        "id": "G8mBEsvHU8ie"
      },
      "execution_count": null,
      "outputs": []
    },
    {
      "cell_type": "code",
      "source": [
        "print_df_dimensions(df_)"
      ],
      "metadata": {
        "id": "v8JxNKa0VY-L"
      },
      "execution_count": null,
      "outputs": []
    },
    {
      "cell_type": "code",
      "source": [
        "df.describe(include='O')"
      ],
      "metadata": {
        "id": "_QjxwJZwVhO_"
      },
      "execution_count": null,
      "outputs": []
    },
    {
      "cell_type": "code",
      "source": [
        "df[df['EVOLUCAO'] == 1].describe(include='O')"
      ],
      "metadata": {
        "id": "x0kqiqv5VrRH"
      },
      "execution_count": null,
      "outputs": []
    },
    {
      "cell_type": "markdown",
      "source": [
        "1. Feature Encoding\n",
        "Como modelos de machine learning performam algebra linear em matrizes, precisamos que todas as variáveis estejam como valores numericos. O processo de conversão de variaveis categoricas em numéricas é chamado de Encoding. Existem algumas abordagens para converter os dados categóricos em numéricos, para que o modelo possa entendê-los. Veremos os dois métodos: Label encoding e One-Hot encoding."
      ],
      "metadata": {
        "id": "dH2QlRa0V6HX"
      }
    },
    {
      "cell_type": "markdown",
      "source": [
        "Para nosso contexto, se utilizássemos o **One-hot encoding**, aplicaria apenas na 'FAIXAETARIA', pois é a única que possui mais de 2 valores possíveis. As demais variáveis são dicotômicas, e por isso, caso utilizássemos o one-hot, na prática este seria o **label encoding**. Então, vamos utilizar diretamente este último."
      ],
      "metadata": {
        "id": "CUHNvbSdV8e8"
      }
    },
    {
      "cell_type": "code",
      "source": [
        "df['FAIXAETARIA'].value_counts()"
      ],
      "metadata": {
        "id": "Ldz-sryHWHMC"
      },
      "execution_count": null,
      "outputs": []
    },
    {
      "cell_type": "code",
      "source": [
        "# label encoding\n",
        "df['FAIXAETARIA'] = df['FAIXAETARIA'].map({'<1': 0, \n",
        "                       '01 a 04': 1, \n",
        "                       '05 a 09': 2,\n",
        "                       '10 a 14': 3, \n",
        "                       '15 a 19': 4,\n",
        "                       '20 a 29': 5, \n",
        "                       '30 a 39': 6, \n",
        "                       '40 a 49': 7, \n",
        "                       '50 a 59': 8, \n",
        "                       '60 a 69': 9,\n",
        "                       '70 a 79': 10, \n",
        "                       '80 e mais': 11})"
      ],
      "metadata": {
        "id": "OWZ6N8NyWMoE"
      },
      "execution_count": null,
      "outputs": []
    },
    {
      "cell_type": "code",
      "source": [
        "# label encoding raça\n",
        "df_['FAIXAETARIA'] = df_ ['FAIXAETARIA'].map({'<1': 0, \n",
        "                       '01 a 04': 1, \n",
        "                       '05 a 09': 2,\n",
        "                       '10 a 14': 3, \n",
        "                       '15 a 19': 4,\n",
        "                       '20 a 29': 5, \n",
        "                       '30 a 39': 6, \n",
        "                       '40 a 49': 7, \n",
        "                       '50 a 59': 8, \n",
        "                       '60 a 69': 9,\n",
        "                       '70 a 79': 10, \n",
        "                       '80 e mais': 11})"
      ],
      "metadata": {
        "id": "d6BEB1fKWPVc"
      },
      "execution_count": null,
      "outputs": []
    },
    {
      "cell_type": "code",
      "source": [
        "df['FAIXAETARIA'].value_counts()"
      ],
      "metadata": {
        "id": "K7ps23T4WRGL"
      },
      "execution_count": null,
      "outputs": []
    },
    {
      "cell_type": "code",
      "source": [
        "# LabelEncoder\n",
        "le = LabelEncoder()\n",
        "\n",
        "# apply \"le.fit_transform\"\n",
        "df = df.apply(le.fit_transform)\n",
        "df"
      ],
      "metadata": {
        "id": "-9pWU8wBWWc6"
      },
      "execution_count": null,
      "outputs": []
    },
    {
      "cell_type": "code",
      "source": [
        "# raça\n",
        "# apply \"le.fit_transform\"\n",
        "df_ = df_.apply(le.fit_transform)"
      ],
      "metadata": {
        "id": "F0jDUOlCWjcc"
      },
      "execution_count": null,
      "outputs": []
    },
    {
      "cell_type": "code",
      "source": [
        "# salvar no disco\n",
        "df.to_csv(\"/content/drive/MyDrive/trabalho IA/covid_2022_prepared.csv\", sep=';', index=False)\n",
        "df_.to_csv(\"/content/drive/MyDrive/trabalho IA/covid_2022_prepared_raça.csv\", sep=\";\", index=False)"
      ],
      "metadata": {
        "id": "CeDleUHOWpKk"
      },
      "execution_count": null,
      "outputs": []
    },
    {
      "cell_type": "code",
      "source": [
        "# sem raca\n",
        "X_val = df.drop(['EVOLUCAO'], axis=1)\n",
        "y_val = df['EVOLUCAO']\n",
        "\n",
        "# com raca/cor\n",
        "X_val_ = df_.drop(['EVOLUCAO'], axis=1)\n",
        "y_val_ = df_['EVOLUCAO']\n",
        "\n",
        "# Validacao\n",
        "X, X_test_val, y, y_test_val = train_test_split(X_val, y_val, stratify=y_val, test_size=0.3, random_state=777)\n",
        "X_, X_test_val_, y_, y_test_val_ = train_test_split(X_val_, y_val_, stratify=y_val_, test_size=0.3, random_state=777)\n",
        "\n",
        "# treino e teste\n",
        "y.reset_index(drop=True, inplace=True)\n",
        "X.reset_index(drop=True, inplace=True)\n",
        "y_.reset_index(drop=True, inplace=True)\n",
        "X_.reset_index(drop=True, inplace=True)"
      ],
      "metadata": {
        "id": "Skh-WqY7W1hK"
      },
      "execution_count": null,
      "outputs": []
    },
    {
      "cell_type": "code",
      "source": [
        "y.value_counts()"
      ],
      "metadata": {
        "id": "tz17IKP6W3XY"
      },
      "execution_count": null,
      "outputs": []
    },
    {
      "cell_type": "code",
      "source": [
        "y_.value_counts()"
      ],
      "metadata": {
        "id": "x-xfkCzxW5g1"
      },
      "execution_count": null,
      "outputs": []
    },
    {
      "cell_type": "code",
      "source": [
        "from sklearn.metrics import precision_recall_curve\n",
        "import scikitplot as skplt\n",
        "from sklearn.metrics import confusion_matrix\n",
        "\n",
        "def print_metric(results, name):\n",
        "    media = np.mean(results)\n",
        "    desvio_padrao = np.std(results)\n",
        "    print(f\"{name} \", end='')\n",
        "    print(\"médio: %.3f | intervalo: [%.3f, %.3f]\" % ((media), (media - 2 * desvio_padrao), (media + 2 * desvio_padrao)))"
      ],
      "metadata": {
        "id": "MbAS2XWNXA_i"
      },
      "execution_count": null,
      "outputs": []
    },
    {
      "cell_type": "code",
      "source": [
        "import scikitplot as skplt\n",
        "# initial parameters\n",
        "SEED = 777\n",
        "K_FOLD = 5\n",
        "\n",
        "\n",
        "# definicao dos modelos\n",
        "models = [\n",
        "          RandomForestClassifier(random_state=SEED), \n",
        "          ]\n",
        "\n",
        "# nome dos modelos\n",
        "verbose_models = ['Floresta aleatória']\n",
        "\n",
        "# figuras para plots\n",
        "# plt.rcParams.update({'font.size': 12})\n",
        "# fig1, ax1 = plt.subplots(figsize=(12, 6))\n",
        "# fig2, ax2 = plt.subplots(figsize=(12, 6))\n",
        "\n",
        "for name, model in zip(verbose_models, models):\n",
        "    # kfold\n",
        "    kf = StratifiedKFold(n_splits=K_FOLD, shuffle=True, random_state=SEED)\n",
        "\n",
        "    print(\"===============\")\n",
        "    print(name + \" - Sem raça/cor\")\n",
        "    # percorre cada fold\n",
        "    auc_roc = []\n",
        "    precision = []\n",
        "    recall = []\n",
        "    f1score = []\n",
        "    \n",
        "    for train_index, test_index in kf.split(X,y):\n",
        "        # divisao treino e teste\n",
        "        X_train, X_test = X.loc[train_index], X.loc[test_index]\n",
        "        y_train, y_test = y[train_index], y[test_index]\n",
        "\n",
        "        # treino e predicao\n",
        "        y_pred = model.fit(X_train, y_train).predict(X_test)\n",
        "\n",
        "        # computacao da metrica\n",
        "        auc_roc.append(roc_auc_score(y_test, y_pred))\n",
        "        precision.append(precision_score(y_test, y_pred))\n",
        "        recall.append(recall_score(y_test, y_pred))\n",
        "        f1score.append(f1_score(y_test, y_pred))\n",
        "\n",
        "    print_metric(auc_roc, 'AUC-ROC')\n",
        "    print_metric(precision, 'PRECISÃO')\n",
        "    print_metric(recall, 'REVOCAÇÃO')\n",
        "    print_metric(f1score, 'F1 SCORE')\n",
        "    print(confusion_matrix(y_test, y_pred))\n",
        "\n",
        "    #skplt.metrics.plot_roc(X_test, y_test)\n",
        "\n",
        "    # plot_precision_recall_curve(model, X_test, y_test, ax=ax2, name=name)\n",
        "    print(\"===============\")\n",
        "\n",
        "    # kfold\n",
        "    kf = StratifiedKFold(n_splits=K_FOLD, shuffle=True, random_state=SEED)\n",
        "    print(\"===============\")\n",
        "    name = name + \" - Com raça/cor\"\n",
        "    print(name)\n",
        "    # percorre cada fold\n",
        "    auc_roc = []\n",
        "    precision = []\n",
        "    recall = []\n",
        "    f1score = []\n",
        "    \n",
        "    for train_index, test_index in kf.split(X_,y_):\n",
        "        # divisao treino e teste\n",
        "        X_train, X_test = X_.loc[train_index], X_.loc[test_index]\n",
        "        y_train, y_test = y_[train_index], y_[test_index]\n",
        "\n",
        "        # treino e predicao\n",
        "        y_pred = model.fit(X_train, y_train).predict(X_test)\n",
        "\n",
        "        # computacao da metrica\n",
        "        auc_roc.append(roc_auc_score(y_test, y_pred))\n",
        "        precision.append(precision_score(y_test, y_pred))\n",
        "        recall.append(recall_score(y_test, y_pred))\n",
        "        f1score.append(f1_score(y_test, y_pred))\n",
        "\n",
        "    print_metric(auc_roc, 'AUC-ROC')\n",
        "    print_metric(precision, 'PRECISÃO')\n",
        "    print_metric(recall, 'REVOCAÇÃO')\n",
        "    print_metric(f1score, 'F1 SCORE')\n",
        "    print(confusion_matrix(y_test, y_pred))\n",
        "    # plot_roc_curve(model, X_test, y_test, ax=ax1, name=name)\n",
        "    # plot_precision_recall_curve(model, X_test, y_test, ax=ax2, name=name)\n",
        "    print(\"===============\")\n",
        "\n",
        "#_ = ax1.set_title('Curva ROC')\n",
        "#_ = ax2.set_title('Curva Precisão-Sensibilidade')\n",
        "#plt.show()     "
      ],
      "metadata": {
        "id": "6vOMbiH_Y3i7"
      },
      "execution_count": null,
      "outputs": []
    },
    {
      "cell_type": "code",
      "source": [
        "from sklearn.model_selection import cross_val_score\n",
        "# balanceamento\n",
        "\n",
        "from imblearn.under_sampling import RandomUnderSampler\n",
        "from imblearn.pipeline import make_pipeline\n",
        "from sklearn.pipeline import Pipeline"
      ],
      "metadata": {
        "id": "dTcu74xddWc4"
      },
      "execution_count": null,
      "outputs": []
    },
    {
      "cell_type": "code",
      "source": [
        "print(\"Sem raça/cor\")\n",
        "rus = RandomUnderSampler(random_state=777)\n",
        "# kfold\n",
        "kf = StratifiedKFold(n_splits=5, shuffle=True, random_state=777)\n",
        "\n",
        "imba_pipeline = make_pipeline(rus, RandomForestClassifier(random_state=SEED))\n",
        "score = cross_val_score(imba_pipeline, X, y, scoring='roc_auc', cv=kf)\n",
        "print_metric(score, 'ROC AUC')"
      ],
      "metadata": {
        "id": "GmxYQ_SUdYr6"
      },
      "execution_count": null,
      "outputs": []
    },
    {
      "cell_type": "code",
      "source": [
        "print(\"Com raça/cor\")\n",
        "rus = RandomUnderSampler(random_state=777)\n",
        "# kfold\n",
        "kf = StratifiedKFold(n_splits=5, shuffle=True, random_state=777)\n",
        "\n",
        "imba_pipeline = make_pipeline(rus, RandomForestClassifier(random_state=SEED))\n",
        "score = cross_val_score(imba_pipeline, X_, y_, scoring='roc_auc', cv=kf)\n",
        "print_metric(score, 'ROC AUC')"
      ],
      "metadata": {
        "id": "EysX7nKtddol"
      },
      "execution_count": null,
      "outputs": []
    }
  ]
}