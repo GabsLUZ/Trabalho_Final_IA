{
  "nbformat": 4,
  "nbformat_minor": 0,
  "metadata": {
    "colab": {
      "private_outputs": true,
      "provenance": [],
      "authorship_tag": "ABX9TyM8GA+ficox+B7PbllhqZj6",
      "include_colab_link": true
    },
    "kernelspec": {
      "name": "python3",
      "display_name": "Python 3"
    },
    "language_info": {
      "name": "python"
    },
    "accelerator": "GPU",
    "gpuClass": "standard"
  },
  "cells": [
    {
      "cell_type": "markdown",
      "metadata": {
        "id": "view-in-github",
        "colab_type": "text"
      },
      "source": [
        "<a href=\"https://colab.research.google.com/github/GabsLUZ/Trabalho_Final_IA/blob/main/trabalho_final_I_A.ipynb\" target=\"_parent\"><img src=\"https://colab.research.google.com/assets/colab-badge.svg\" alt=\"Open In Colab\"/></a>"
      ]
    },
    {
      "cell_type": "code",
      "source": [
        "!rm -rf /tmp/pip-req-build-2alw22fx"
      ],
      "metadata": {
        "id": "gO8CxU7BNlu7"
      },
      "execution_count": null,
      "outputs": []
    },
    {
      "cell_type": "code",
      "source": [
        "!pip install git+https://github.com/creditbenchmark/crod-utils.git"
      ],
      "metadata": {
        "id": "mtSUWaHlLAR5"
      },
      "execution_count": null,
      "outputs": []
    },
    {
      "cell_type": "code",
      "source": [
        "pip install unidecode"
      ],
      "metadata": {
        "id": "b15IdOHRKsgS"
      },
      "execution_count": null,
      "outputs": []
    },
    {
      "cell_type": "code",
      "execution_count": null,
      "metadata": {
        "id": "qAyGwSkmJrPM"
      },
      "outputs": [],
      "source": [
        "# pacotes padrao\n",
        "import os, sys, types, time, datetime, math, random, unidecode, collections, re\n",
        "\n",
        "# Para nuvem de palavras\n",
        "from wordcloud import WordCloud, STOPWORDS, ImageColorGenerator\n",
        "\n",
        "# Manipulacao de dados\n",
        "import numpy as np\n",
        "import pandas as pd\n",
        "\n",
        "# Visualizacao de dados\n",
        "import matplotlib.pyplot as plt\n",
        "import seaborn as sns\n",
        "\n",
        "# Lidando com Warnings \n",
        "import warnings\n",
        "warnings.filterwarnings('ignore')\n",
        "\n",
        "# plotagem Inline\n",
        "%matplotlib inline\n",
        "\n"
      ]
    },
    {
      "cell_type": "code",
      "source": [
        "df = pd.read_csv(\"/content/20230321_Ano2022.csv\", sep=';')"
      ],
      "metadata": {
        "id": "Javn0qwtOS2z"
      },
      "execution_count": null,
      "outputs": []
    },
    {
      "cell_type": "code",
      "source": [
        "print(df.shape)\n",
        "num_linhas, num_colunas = df.shape\n",
        "print(\"DIMENSÕES DO DATAFRAME\")\n",
        "print(\"Número de linhas:\", num_linhas)\n",
        "print(\"Número de colunas:\", num_colunas)"
      ],
      "metadata": {
        "id": "K6fEWWcySGZK"
      },
      "execution_count": null,
      "outputs": []
    },
    {
      "cell_type": "code",
      "source": [
        "df.head()"
      ],
      "metadata": {
        "id": "lNDTzrRiSp0G"
      },
      "execution_count": null,
      "outputs": []
    },
    {
      "cell_type": "code",
      "source": [
        "df.describe(include=['O'])"
      ],
      "metadata": {
        "id": "8V_oSRbxS5fw"
      },
      "execution_count": null,
      "outputs": []
    },
    {
      "cell_type": "code",
      "source": [
        "df.columns"
      ],
      "metadata": {
        "id": "MOrBx1cSUh86"
      },
      "execution_count": null,
      "outputs": []
    },
    {
      "cell_type": "code",
      "source": [
        "df.dtypes"
      ],
      "metadata": {
        "id": "EjvQEgWGUm2C"
      },
      "execution_count": null,
      "outputs": []
    },
    {
      "cell_type": "code",
      "source": [
        "print(df.isnull().sum().sort_values(ascending=False))"
      ],
      "metadata": {
        "id": "m0f2mkAKU99q"
      },
      "execution_count": null,
      "outputs": []
    },
    {
      "cell_type": "code",
      "source": [
        "print((df.isnull().sum() / df.shape[0]).sort_values(ascending=False) * 100)"
      ],
      "metadata": {
        "id": "gu_Ln_aqVF_M"
      },
      "execution_count": null,
      "outputs": []
    },
    {
      "cell_type": "code",
      "source": [
        "# valores únicos\n",
        "print(\"\\nVALORES ÚNICOS:\")\n",
        "print(df.nunique().sort_values())"
      ],
      "metadata": {
        "id": "_DAGOSuoXfWD"
      },
      "execution_count": null,
      "outputs": []
    },
    {
      "cell_type": "code",
      "source": [
        "def plot_distribution(dataset, cols=5, width=20, height=15, hspace=0.2, wspace=0.5):\n",
        "    plt.style.use('seaborn-whitegrid')\n",
        "    fig = plt.figure(figsize=(width,height))\n",
        "    fig.subplots_adjust(left=None, bottom=None, right=None, top=None, wspace=wspace, hspace=hspace)\n",
        "    rows = math.ceil(float(dataset.shape[1]) / cols)\n",
        "    for i, column in enumerate(dataset.columns):\n",
        "        ax = fig.add_subplot(rows, cols, i + 1)\n",
        "        ax.set_title(column)\n",
        "        if dataset.dtypes[column] == np.object:\n",
        "            g = sns.countplot(y=column, data=dataset, palette=\"magma\")\n",
        "            substrings = [s.get_text()[:18] for s in g.get_yticklabels()]\n",
        "            g.set(yticklabels=substrings)\n",
        "            plt.xticks(rotation=25)\n",
        "        else:\n",
        "            g = sns.distplot(dataset[column])\n",
        "            plt.xticks(rotation=25)"
      ],
      "metadata": {
        "id": "VKSdeRtsXscM"
      },
      "execution_count": null,
      "outputs": []
    },
    {
      "cell_type": "code",
      "source": [
        "plot_distribution(df.drop(['BAIRRO', 'CONDICOES', 'COD_IBGE', 'MUNICIPIO', 'DATA_SINTOMAS', \n",
        "                           'DATA_CONFIRMACAO', 'DATA_EVOLUCAO_ESTIMADA', 'DATA_INCLUSAO',\n",
        "                           'DATA_INCLUSAO_OBITO', 'PAIS_NASCIMENTO', 'DATA_EVOLUCAO', 'COD_REGIAO_COVID', \n",
        "                           'REGIAO_COVID', 'ETNIA_INDIGENA'], axis=1), \n",
        "                          cols=3, width=20, height=20, hspace=0.45, wspace=0.5)"
      ],
      "metadata": {
        "id": "_bS3bFC8XvSF"
      },
      "execution_count": null,
      "outputs": []
    },
    {
      "cell_type": "code",
      "source": [
        "plt.rc('figure', figsize=(12, 8))\n",
        "ax = sns.countplot(x='EVOLUCAO', data=df, palette='magma')\n",
        "\n",
        "def show_values_on_bars(axs):\n",
        "    def _show_on_single_plot(ax):        \n",
        "        for p in ax.patches:\n",
        "            _x = p.get_x() + p.get_width() / 2 # divide por 2 pra ficar no meio\n",
        "            _y = p.get_y() + p.get_height() + 5000 # mais 5000 pra n ficar colado na altura da barra\n",
        "            value = '{:.0f}'.format(p.get_height())\n",
        "            ax.text(_x, _y, value, ha=\"center\", fontsize=13, color='black',) \n",
        "\n",
        "    if isinstance(axs, np.ndarray):\n",
        "        for idx, ax in np.ndenumerate(axs):\n",
        "            _show_on_single_plot(ax)\n",
        "    else:\n",
        "        _show_on_single_plot(axs)\n",
        "        \n",
        "show_values_on_bars(ax)\n",
        "\n",
        "ax.set_title('Distribuição das evoluções dos casos de COVID no estado do RS', fontsize=18, pad=30);\n",
        "ax.set_ylabel('Total de casos', fontsize=14)\n",
        "ax.set_xlabel('')\n",
        "\n",
        "ax.tick_params(axis='both', which='major', labelsize=12)\n",
        "\n",
        "figure = ax.get_figure()    \n",
        "figure.savefig(\"imgs/distribuicao.png\", dpi=800);"
      ],
      "metadata": {
        "id": "o3q3-RHtYNLP"
      },
      "execution_count": null,
      "outputs": []
    }
  ]
}